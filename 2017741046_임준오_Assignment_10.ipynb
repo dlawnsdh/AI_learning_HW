{
  "nbformat": 4,
  "nbformat_minor": 0,
  "metadata": {
    "colab": {
      "name": "2017741046_임준오_Assignment_10.ipynb",
      "provenance": []
    },
    "kernelspec": {
      "name": "python3",
      "display_name": "Python 3"
    },
    "language_info": {
      "name": "python"
    }
  },
  "cells": [
    {
      "cell_type": "markdown",
      "metadata": {
        "id": "kJC80_Aajfx0"
      },
      "source": [
        "##**2 Assignment**\n",
        "\n",
        "###**다음과 같은 CNN 모델을 작성해보자**\n",
        "* Input\n",
        "  * Input type: torch.Tensor\n",
        "  * Input shape: (?, 1, 28, 28)\n",
        "    * 여러장의, 흑백, 28x28 size의 이미지라고 가정하자\n",
        "* Layers\n",
        "  * Layer1\n",
        "    * Conv2d >> C: 32, Kernel size (필터 크기): 3, Stride: 1, Padding: 1\n",
        "    * ReLU\n",
        "    * MaxPool >> Kernel size: 2, Stride: 2\n",
        "    * 입-출력 (?, 1, 28, 28) >> (?, 32, 14, 14)\n",
        "  * Layer2\n",
        "    * Conv2d >> C: 64, Kernel size (필터 크기): 3, Stride: 1, Padding: 1\n",
        "    * ReLU\n",
        "    * MaxPool >> Kernel size: 2, Stride: 2\n",
        "    * 입-출력 (?, 32, 14, 14) >> (?, 64, 7, 7)\n",
        "  * Layer3\n",
        "    * Conv2d >> C: 128, Kernel size (필터 크기): 3, Stride: 1, Padding: 1\n",
        "    * ReLU\n",
        "    * MaxPool >> Kernel size: 2, Stride: 2, Padding: 1\n",
        "    * 입-출력 (?, 64, 7, 7) >> (?, 128, 4, 4)\n",
        "  * Layer4\n",
        "    * Linear >> input: 4x4x128 output: 625\n",
        "    * ReLU\n",
        "    * Dropout\n",
        "    * 입-출력 (4x4x128) >> (625)\n",
        "  * Layer5\n",
        "    * Linear >> input: 625 output: 10\n",
        "    * Softmax (pytorch의 Cross Entropy Loss 함수를 사용하는 것을 감안한다)\n",
        "\n",
        "    \n"
      ]
    },
    {
      "cell_type": "code",
      "metadata": {
        "id": "Nriq6FfQjMqc"
      },
      "source": [
        "from torch import nn\n",
        "import torch\n",
        "import numpy as np\n",
        "import torch.nn.functional as func\n",
        "import torch.optim as opt\n",
        "\n",
        "class Model(nn.Module):\n",
        "    def __init__(self):\n",
        "        super(Model,self).__init__()\n",
        "        self.layer1 = nn.Sequential(nn.Conv2d(1, 32, 3, padding=1),\n",
        "                      nn.ReLU(), nn.MaxPool2d(2, stride=2))\n",
        "        self.layer2 = nn.Sequential(nn.Conv2d(32, 64, 3, padding=1),\n",
        "                      nn.ReLU(), nn.MaxPool2d(2, stride=2))\n",
        "        self.layer3 = nn.Sequential(nn.Conv2d(64, 128, 3, padding=1),\n",
        "                      nn.ReLU(), nn.MaxPool2d(2, stride=2, padding=1))\n",
        "        self.layer4 = nn.Sequential(nn.Linear(4*4*128, 625),\n",
        "                      nn.ReLU(), nn.Dropout()) #Dropout은 default값이 p=0.5\n",
        "        self.linear = nn.Linear(625, 10) #layer5의 softmax는 nn.CrossEntropyLoss()를 사용\n",
        "\n",
        "    def forward(self,x):\n",
        "        in_size = x.size(0)\n",
        "        x = self.layer1(x)\n",
        "        x = self.layer2(x)\n",
        "        x = self.layer3(x)\n",
        "        x = x.reshape(in_size, -1)\n",
        "        x = self.layer4(x)\n",
        "        x = self.linear(x) #layer5\n",
        "        return x\n",
        "\n",
        "model = Model()\n",
        "criterion = nn.CrossEntropyLoss()\n",
        "optimizer = opt.SGD(model.parameters(),lr=0.2, momentum=0.5)"
      ],
      "execution_count": 16,
      "outputs": []
    }
  ]
}