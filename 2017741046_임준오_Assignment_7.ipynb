{
  "nbformat": 4,
  "nbformat_minor": 0,
  "metadata": {
    "colab": {
      "name": "2017741046_임준오_Assignment_7.ipynb",
      "provenance": [],
      "collapsed_sections": []
    },
    "kernelspec": {
      "name": "python3",
      "display_name": "Python 3"
    },
    "language_info": {
      "name": "python"
    }
  },
  "cells": [
    {
      "cell_type": "markdown",
      "metadata": {
        "id": "OLU2KPP3QNav"
      },
      "source": [
        "##**5 Assignment**\n",
        "* 행렬 방정식 풀기  \n",
        "  * 다음 행렬 방적식을 'Linear Regression'을 이용해 풀어보자\n",
        "    * 적당한 learning rate를 찾아 1000 epoch 정도 계산해본다\n",
        "    * 'Pseudo Inverse'를 이용한 풀이와 비교해본다\n",
        "  * Hint: y = wx 꼴로 변환해본다\n",
        "    * Ax=B에서는 x가 미지수이지만, y=wx에서는 w가 미지수임에 주의!\n",
        "    * linear model에서 b를 없애기 위해서 nn.Linear() 사용법을 검색해보자\n",
        "$$\n",
        "\\begin{aligned}  \n",
        "Ax = B\\\\  \n",
        "A =  \\left[\n",
        "\\begin{matrix}\n",
        "    0 & 1 \\\\\n",
        "    1 & 1 \\\\\n",
        "    2 & 1 \\\\\n",
        "    3 & 1 \\\\\n",
        "\\end{matrix}\n",
        "\\right]\\\\\n",
        "B = \\left[\n",
        "\\begin{matrix}\n",
        "    -1 \\\\\n",
        "    0.2 \\\\\n",
        "    0.9 \\\\\n",
        "    2.1 \\\\\n",
        "\\end{matrix}\n",
        "\\right]\n",
        "\\end{aligned}\n",
        "$$"
      ]
    },
    {
      "cell_type": "code",
      "metadata": {
        "id": "inJIxTnecTFE"
      },
      "source": [
        "from torch import nn\n",
        "import torch\n",
        "import numpy as np\n",
        "import torch.nn.functional as func\n",
        "import torch.optim as opt\n",
        "\n",
        "matA = torch.FloatTensor([[0,1],[1,1],[2,1],[3,1]])\n",
        "matB = torch.FloatTensor([[-1], [0.2],[0.9],[2.1]])\n",
        "B = matB\n",
        "\n",
        "#Pseudo Inverse를 사용한 풀이\n",
        "A = torch.inverse(matA.T.matmul(matA)).matmul(matA.T)\n",
        "x = A.matmul(matB)\n",
        "\n",
        "model = nn.Linear(2, 1, bias=False)\n",
        "optim = opt.SGD(model.parameters(), lr=0.01)\n",
        "\n",
        "for epoch in range(1000):\n",
        "    y_pred = model(matA)\n",
        "    cost = func.mse_loss(y_pred, matB)\n",
        "\n",
        "    optim.zero_grad()\n",
        "    cost.backward()\n",
        "    optim.step()\n",
        "\n",
        "    if epoch % 100 == 99:\n",
        "        print('Epoch {:4d}/{} Cost: {:.6f}'.format(epoch + 1, 1000, cost.item()))\n",
        "        if epoch + 1 == 1000:\n",
        "            matB = y_pred\n",
        "            w = model.weight\n",
        "\n",
        "matB = matB.reshape(4,-1)\n",
        "print('--------B-------')\n",
        "print(B)\n",
        "print('-----pred B-----')\n",
        "print(matB)\n",
        "print('--------x-------')\n",
        "print(x)\n",
        "print('-----pred x-----')\n",
        "print(w)"
      ],
      "execution_count": null,
      "outputs": []
    }
  ]
}