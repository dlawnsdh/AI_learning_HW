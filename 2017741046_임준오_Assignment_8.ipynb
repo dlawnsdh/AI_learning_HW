{
  "nbformat": 4,
  "nbformat_minor": 0,
  "metadata": {
    "colab": {
      "name": "2017741046_임준오_Assignment_8.ipynb",
      "provenance": []
    },
    "kernelspec": {
      "name": "python3",
      "display_name": "Python 3"
    },
    "language_info": {
      "name": "python"
    }
  },
  "cells": [
    {
      "cell_type": "markdown",
      "metadata": {
        "id": "mR7u-jfXPQQj"
      },
      "source": [
        "##**3 Assignment**\n",
        "* Data 파일을 이용한 Logistic Regression\n",
        " - data_logistic_regression.csv을 이용해 학습한다  \n",
        "    + 8개의 input, 1개의 output\n",
        "$$ \n",
        "[x_1, ... x_8, y]\n",
        "$$\n",
        "  - Accuracy 75% 이상을 달성한다"
      ]
    },
    {
      "cell_type": "code",
      "metadata": {
        "colab": {
          "base_uri": "https://localhost:8080/"
        },
        "id": "UUlyU-ZrFeiY",
        "outputId": "aef59519-331f-4e30-c859-75c4f1ec7fea"
      },
      "source": [
        "from torch import nn\n",
        "import torch\n",
        "import numpy as np\n",
        "import torch.nn.functional as func\n",
        "import torch.optim as opt\n",
        "import pandas as pd\n",
        "\n",
        "data = pd.read_csv('/content/drive/MyDrive/data_logistic_regression.csv')\n",
        "data = data.to_numpy()\n",
        "x_data = torch.FloatTensor(data[:,:-1])\n",
        "y_data = torch.FloatTensor(data[:,[-1]]) #pd.read_csv\n",
        "\n",
        "class Model(nn.Module):\n",
        "    def __init__(self):\n",
        "        super(Model, self).__init__()\n",
        "        self.linear = nn.Linear(8, 1)\n",
        "        self.sigmoid = nn.Sigmoid()\n",
        "\n",
        "    def forward(self, x):\n",
        "        y_pred = self.sigmoid(self.linear(x))\n",
        "        return y_pred\n",
        "\n",
        "model = Model()\n",
        "criterion = nn.BCELoss(reduction='mean')\n",
        "optim = opt.SGD(model.parameters(), lr=0.07)\n",
        "\n",
        "for epoch in range(1000):\n",
        "    y_pred = model(x_data)\n",
        "    cost = criterion(y_pred, y_data)\n",
        "\n",
        "    optim.zero_grad()\n",
        "    cost.backward()\n",
        "    optim.step()\n",
        "\n",
        "    if (epoch + 1) % 100 == 0:\n",
        "        prediction = y_pred >= torch.FloatTensor([0.5])\n",
        "        correct_prediction = prediction.float() == y_data\n",
        "        accuracy = correct_prediction.sum().item() / len(correct_prediction)\n",
        "        print('Epoch {:4d}/{} Cost: {:.6f} Accuracy {:2.2f}%'.format(epoch+1, 1000, cost.item(), accuracy * 100,))\n",
        "print('Accuracy: {:2.2f}%'.format(accuracy*100))"
      ],
      "execution_count": 73,
      "outputs": [
        {
          "output_type": "stream",
          "name": "stdout",
          "text": [
            "Epoch  100/1000 Cost: 0.589687 Accuracy 66.09%\n",
            "Epoch  200/1000 Cost: 0.560229 Accuracy 69.13%\n",
            "Epoch  300/1000 Cost: 0.540074 Accuracy 73.35%\n",
            "Epoch  400/1000 Cost: 0.525768 Accuracy 74.93%\n",
            "Epoch  500/1000 Cost: 0.515286 Accuracy 75.33%\n",
            "Epoch  600/1000 Cost: 0.507399 Accuracy 75.99%\n",
            "Epoch  700/1000 Cost: 0.501330 Accuracy 76.65%\n",
            "Epoch  800/1000 Cost: 0.496573 Accuracy 76.91%\n",
            "Epoch  900/1000 Cost: 0.492787 Accuracy 77.31%\n",
            "Epoch 1000/1000 Cost: 0.489732 Accuracy 76.91%\n",
            "Accuracy: 76.91%\n"
          ]
        }
      ]
    }
  ]
}