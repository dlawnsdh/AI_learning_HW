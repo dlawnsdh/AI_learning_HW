{
  "nbformat": 4,
  "nbformat_minor": 0,
  "metadata": {
    "colab": {
      "name": "2017741046_임준오_Assignment_2.ipynb",
      "provenance": [],
      "collapsed_sections": []
    },
    "kernelspec": {
      "name": "python3",
      "display_name": "Python 3"
    },
    "language_info": {
      "name": "python"
    }
  },
  "cells": [
    {
      "cell_type": "markdown",
      "metadata": {
        "id": "HI3htaMJOLnV"
      },
      "source": [
        "#**Assignment 2 - Python 기초 복습하기 1**\n",
        "---\n",
        "By 이기백  \n",
        "인공지능응용 두 번째 과제\n",
        "\n",
        "## Technologies Used\n",
        "* Google Colab\n",
        "* Jupyter Notebook\n",
        "* Markdown\n",
        "* Python\n",
        "\n",
        "## Description\n",
        "이 과제에서는 `Python` 기초 문법을 복습합니다.  \n",
        "이 문서는 Google Colab에서 Markdown 문법을 이용해 작성되었습니다.\n",
        "\n",
        "## Setup/Installation Requirements\n",
        "* KLAS에서 과제의 첨부파일(노트)을 다운로드\n",
        "* 구글드라이브에 노트 업로드\n",
        "  - 노트의 파일명을 **학번\\_이름\\_Assignment_2.ipynb**로 변경\n",
        "* _Colab_ 에서 해당 노트에 Problem 해결\n",
        "* 해당 노트를 다운로드한 후 KLAS에서 과제로 제출\n",
        "\n"
      ]
    },
    {
      "cell_type": "markdown",
      "metadata": {
        "id": "6Y7nwpqZdmQ1"
      },
      "source": [
        "## Problem 1\n",
        "* 강의자료 예제 실행해보기  \n",
        "  + 강의자료의 **Python 기초 문법** 예제들을 이 아래에 코드블럭으로 재작성하고 실행\n",
        "\n"
      ]
    },
    {
      "cell_type": "code",
      "metadata": {
        "colab": {
          "base_uri": "https://localhost:8080/"
        },
        "id": "5W8Oug97WTjW",
        "outputId": "f415179f-caf7-421f-e9ec-b244bd92a28f"
      },
      "source": [
        "#주석\n",
        "'''print(\"hello world\")\n",
        "print(\"안녕하세요)'''\n",
        "#들여쓰기\n",
        "print(\"start\")\n",
        "for i in range(1, 11):\n",
        "    if i % 2 == 0:\n",
        "        print(str(i) + \"은(는) 짝수 입니다\")\n",
        "    else:\n",
        "        print(str(i) + \"은(는) 홀수 입니다\")\n",
        "print('end')\n",
        "#함수\n",
        "def printer(a):\n",
        "    print(\"프린터 작동\" + '\\n' + a + '\\n' + \"프린트 완료\")\n",
        "\n",
        "#입출력\n",
        "a = int(input())\n",
        "print(a)\n",
        "i = 2\n",
        "j = 2.5\n",
        "k = 'hi'\n",
        "print(\"i = %d j = %1.f k = %s\"%(i,j,k))"
      ],
      "execution_count": 16,
      "outputs": [
        {
          "output_type": "stream",
          "name": "stdout",
          "text": [
            "start\n",
            "1은(는) 홀수 입니다\n",
            "2은(는) 짝수 입니다\n",
            "3은(는) 홀수 입니다\n",
            "4은(는) 짝수 입니다\n",
            "5은(는) 홀수 입니다\n",
            "6은(는) 짝수 입니다\n",
            "7은(는) 홀수 입니다\n",
            "8은(는) 짝수 입니다\n",
            "9은(는) 홀수 입니다\n",
            "10은(는) 짝수 입니다\n",
            "end\n",
            "23245\n",
            "23245\n",
            "i = 2 j = 2 k = hi\n"
          ]
        }
      ]
    },
    {
      "cell_type": "markdown",
      "metadata": {
        "id": "dZCjgtqsdn2j"
      },
      "source": [
        "## Problem 2\n",
        "* 프로그램 작성해보기\n",
        "  + 제시된 출력결과를 보고, 아래 미완성 프로그램을 완성\n",
        "\n"
      ]
    },
    {
      "cell_type": "code",
      "metadata": {
        "id": "7NtLnfUydyUR",
        "colab": {
          "base_uri": "https://localhost:8080/"
        },
        "outputId": "455f0be6-8956-4486-f85b-4ce3d10cf12c"
      },
      "source": [
        "\n",
        "name = input('What is your name? ')\n",
        "age = int(input('How old are you? '))\n",
        "grade = float(input('What is your grade point average? '))\n",
        "\n",
        "print('Your name is %s' % name)\n",
        "print('Your age is %d' % age)\n",
        "print('Your grade is %.1f' % grade)\n"
      ],
      "execution_count": 20,
      "outputs": [
        {
          "output_type": "stream",
          "name": "stdout",
          "text": [
            "What is your name? k\n",
            "How old are you? 24\n",
            "What is your grade point average? 4\n",
            "Your name is k\n",
            "Your age is 24\n",
            "Your grade is 4.0\n"
          ]
        }
      ]
    },
    {
      "cell_type": "markdown",
      "metadata": {
        "id": "PqXDUnCkfIUn"
      },
      "source": [
        "> 출력결과\n",
        "\n",
        "What is your name? (키보드입력)Kim  \n",
        "How old are you? (키보드입력)20  \n",
        "What is your grade point average? (키보드입력)4.5  \n",
        "Your name is Kim  \n",
        "Your age is 20  \n",
        "Your grade is 4.5  "
      ]
    },
    {
      "cell_type": "markdown",
      "metadata": {
        "id": "pWoLA53bdr6u"
      },
      "source": [
        "## Known Bugs\n",
        "* 알려진 <u>버그</u> 없음\n",
        "\n",
        "## License\n",
        ">[MIT License](https://opensource.org/licenses/MIT)\n",
        "\n",
        "Copyright (c) 2021 Ki-Baek Lee"
      ]
    }
  ]
}