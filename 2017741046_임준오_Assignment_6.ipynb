{
  "nbformat": 4,
  "nbformat_minor": 0,
  "metadata": {
    "colab": {
      "name": "2017741046_임준오_Assignment_6.ipynb",
      "provenance": [],
      "collapsed_sections": []
    },
    "kernelspec": {
      "name": "python3",
      "display_name": "Python 3"
    },
    "language_info": {
      "name": "python"
    }
  },
  "cells": [
    {
      "cell_type": "markdown",
      "metadata": {
        "id": "ZyKK4FkGKIFL"
      },
      "source": [
        "##**Assignment 3**\n",
        "* 행렬 방정식 풀기  \n",
        "  * 다음 행렬 방적식을 'Pseudo inverse matrix'를 이용해 풀어보자\n",
        "  * $\\mathbf{A}^\\intercal \\mathbf{A}$의 역행렬이 존재한다고 가정  \n",
        "$$\n",
        "\\begin{aligned}  \n",
        "Ax = B\\\\  \n",
        "A =  \\left[\n",
        "\\begin{matrix}\n",
        "    0 & 1 \\\\\n",
        "    1 & 1 \\\\\n",
        "    2 & 1 \\\\\n",
        "    3 & 1 \\\\\n",
        "\\end{matrix}\n",
        "\\right]\\\\\n",
        "B = \\left[\n",
        "\\begin{matrix}\n",
        "    -1 \\\\\n",
        "    0.2 \\\\\n",
        "    0.9 \\\\\n",
        "    2.1 \\\\\n",
        "\\end{matrix}\n",
        "\\right]\n",
        "\\end{aligned}\n",
        "$$"
      ]
    },
    {
      "cell_type": "code",
      "metadata": {
        "colab": {
          "base_uri": "https://localhost:8080/"
        },
        "id": "DLTPQToOKPVA",
        "outputId": "ada970dc-1f8c-43fe-8122-2903b3df56c1"
      },
      "source": [
        "import torch\n",
        "matA = torch.FloatTensor([[0,1],[1,1],[2,1],[3,1]])\n",
        "matB = torch.FloatTensor([[-1], [0.2],[0.9],[2.1]])\n",
        "\n",
        "A = torch.inverse(matA.T.matmul(matA)).matmul(matA.T)\n",
        "#matA가 full column rank이므로 좌측 역행렬을 같는다.\n",
        "x = A.matmul(matB)\n",
        "print(x)"
      ],
      "execution_count": 19,
      "outputs": [
        {
          "output_type": "stream",
          "name": "stdout",
          "text": [
            "tensor([[ 1.0000],\n",
            "        [-0.9500]])\n"
          ]
        }
      ]
    }
  ]
}