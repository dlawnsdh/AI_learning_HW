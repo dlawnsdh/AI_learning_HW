{
  "nbformat": 4,
  "nbformat_minor": 0,
  "metadata": {
    "colab": {
      "name": "2017741046_임준오_Assignment_9.ipynb",
      "provenance": [],
      "collapsed_sections": []
    },
    "kernelspec": {
      "name": "python3",
      "display_name": "Python 3"
    },
    "language_info": {
      "name": "python"
    }
  },
  "cells": [
    {
      "cell_type": "markdown",
      "metadata": {
        "id": "ooNDBLVzmu99"
      },
      "source": [
        "##**3 Assignment**\n",
        "* Data 파일을 이용한 Multinomial Classification\n",
        " - data_multinomial_classification.csv을 이용해 학습한다  \n",
        "    + 16개의 input, 1개의 output\n",
        "$$ \n",
        "[x_1, ... x_{16}, y]\n",
        "$$\n",
        "  - Accuracy 95% 이상을 달성한다"
      ]
    },
    {
      "cell_type": "code",
      "metadata": {
        "id": "8x7SrZP4mpfV",
        "colab": {
          "base_uri": "https://localhost:8080/"
        },
        "outputId": "daf23fac-2207-4ba8-c9c5-ddee17d2dfef"
      },
      "source": [
        "from torch import nn\n",
        "import torch\n",
        "import numpy as np\n",
        "import torch.nn.functional as func\n",
        "import torch.optim as opt\n",
        "import pandas as pd\n",
        "\n",
        "data = pd.read_csv('/content/drive/MyDrive/인공지능응용/data_multinomial_classification.csv')\n",
        "data = data.to_numpy()\n",
        "x_data = torch.FloatTensor(data[:,:-1])\n",
        "y_data = torch.LongTensor(data[:,-1])\n",
        "\n",
        "class Model(nn.Module):\n",
        "    def __init__(self):\n",
        "        super(Model, self).__init__()\n",
        "        self.linear = nn.Linear(16, 7)\n",
        "\n",
        "    def forward(self, x):\n",
        "        x = self.linear(x)\n",
        "        return x\n",
        "\n",
        "model = Model()\n",
        "criterion = nn.CrossEntropyLoss()\n",
        "optim = opt.SGD(model.parameters(), lr=0.09)\n",
        "\n",
        "for epoch in range(1000):\n",
        "    y_pred = model(x_data)\n",
        "    loss = criterion(y_pred, y_data)\n",
        "\n",
        "    optim.zero_grad()\n",
        "    loss.backward()\n",
        "    optim.step()\n",
        "\n",
        "    if (epoch + 1) % 100 == 0:\n",
        "        prediction = y_pred.max(1, keepdim=True)[1]\n",
        "        correct_prediction = prediction.float() == y_data.unsqueeze(1)\n",
        "        accuracy = correct_prediction.sum().item() / len(correct_prediction)\n",
        "        print('Epoch {:4d}/{} Cost: {:.6f} Accuracy {:2.2f}%'.format(epoch+1, 1000, loss.item(), accuracy * 100,))\n",
        "print('Accuracy: {:2.2f}%'.format(accuracy*100))"
      ],
      "execution_count": 5,
      "outputs": [
        {
          "output_type": "stream",
          "name": "stdout",
          "text": [
            "Epoch  100/1000 Cost: 0.506099 Accuracy 86.00%\n",
            "Epoch  200/1000 Cost: 0.352922 Accuracy 92.00%\n",
            "Epoch  300/1000 Cost: 0.276892 Accuracy 95.00%\n",
            "Epoch  400/1000 Cost: 0.228932 Accuracy 95.00%\n",
            "Epoch  500/1000 Cost: 0.195408 Accuracy 95.00%\n",
            "Epoch  600/1000 Cost: 0.170511 Accuracy 96.00%\n",
            "Epoch  700/1000 Cost: 0.151242 Accuracy 98.00%\n",
            "Epoch  800/1000 Cost: 0.135871 Accuracy 100.00%\n",
            "Epoch  900/1000 Cost: 0.123321 Accuracy 100.00%\n",
            "Epoch 1000/1000 Cost: 0.112882 Accuracy 100.00%\n",
            "Accuracy: 100.00%\n"
          ]
        }
      ]
    }
  ]
}